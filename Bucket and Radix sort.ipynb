{
  "nbformat": 4,
  "nbformat_minor": 0,
  "metadata": {
    "colab": {
      "name": "Assignment5(EDIT).ipynb",
      "provenance": [],
      "collapsed_sections": []
    },
    "kernelspec": {
      "name": "python3",
      "display_name": "Python 3"
    },
    "language_info": {
      "name": "python"
    }
  },
  "cells": [
    {
      "cell_type": "code",
      "metadata": {
        "id": "5RbJdtUdnW86"
      },
      "source": [
        "import numpy as np\n",
        "import math\n",
        "import matplotlib.pyplot as plt\n",
        "import time"
      ],
      "execution_count": 1,
      "outputs": []
    },
    {
      "cell_type": "code",
      "metadata": {
        "id": "_iMgtv4Ana9y"
      },
      "source": [
        "def stable_count_sort(arr, B, k, digits_arr):\n",
        "    C = [0]*(k+1)\n",
        "    \n",
        "    for j in range(len(arr)):\n",
        "        C[digits_arr[j]] = C[digits_arr[j]] + 1\n",
        "    for i in range(1,k+1):\n",
        "        C[i] = C[i] + C[i-1]\n",
        "    for j in range(len(arr)-1,-1,-1):\n",
        "        B[C[digits_arr[j]]-1] = arr[j]\n",
        "        C[digits_arr[j]] = C[digits_arr[j]] - 1\n",
        "    return B\n",
        "\n",
        "def rad_sort(arr):\n",
        "    start_time = time.time()\n",
        "    d = len(str(arr[0]))\n",
        "    for i in range(0,d):\n",
        "        digits_arr = []\n",
        "        for j in range(len(arr)):\n",
        "            digits_arr.append((arr[j]//10**i) % 10)\n",
        "        arr = stable_count_sort(arr, [0]*len(arr), max(digits_arr), digits_arr)\n",
        "    end_time = time.time()\n",
        "    time_taken = end_time - start_time\n",
        "    print(time_taken)\n",
        "    return arr\n"
      ],
      "execution_count": 2,
      "outputs": []
    },
    {
      "cell_type": "code",
      "metadata": {
        "colab": {
          "base_uri": "https://localhost:8080/"
        },
        "id": "Emuwuuwxne4t",
        "outputId": "55469479-a33b-42c8-f6bc-d8ea634f2beb"
      },
      "source": [
        "print(\"rad_sort result\", rad_sort([21,23,54,67,89,12,34,85,45,95]))"
      ],
      "execution_count": 3,
      "outputs": [
        {
          "output_type": "stream",
          "name": "stdout",
          "text": [
            "4.649162292480469e-05\n",
            "rad_sort result [12, 21, 23, 34, 45, 54, 67, 85, 89, 95]\n"
          ]
        }
      ]
    },
    {
      "cell_type": "code",
      "metadata": {
        "id": "SIBr4emxnjAD"
      },
      "source": [
        "#Quick Sort\n",
        "\n",
        "def partition(A,p,r):\n",
        "  x = A[r]\n",
        "  i = p-1\n",
        "  \n",
        "  for j in range(p,r):\n",
        "    if (A[j]<=x):\n",
        "      i=i+1\n",
        "      A[i], A[j] = A[j], A[i]\n",
        "  A[i+1], A[r] = A[r], A[i+1]\n",
        "  return i+1\n",
        "\n",
        "def quicksort(A,p,r):\n",
        "  if (p<r):\n",
        "    q = partition(A,p,r)\n",
        "    quicksort(A,p,q-1)\n",
        "    quicksort(A,q+1,r)"
      ],
      "execution_count": 4,
      "outputs": []
    },
    {
      "cell_type": "code",
      "metadata": {
        "colab": {
          "base_uri": "https://localhost:8080/",
          "height": 386
        },
        "id": "WAmODj5Znn8o",
        "outputId": "000c6c94-a247-4ab1-e6b0-c0863a781edc"
      },
      "source": [
        "digit_size = []\n",
        "rad_sort_time = []\n",
        "q_sort_time = []\n",
        "rad_sort_time_list = []\n",
        "q_sort_time_list = []\n",
        "\n",
        "\n",
        "for i in range(0,6):\n",
        "    np.random.seed(0)\n",
        "    n=20\n",
        "    arr = np.random.randint(10**i, (10**(i+1)) , n)\n",
        "    digit_size.append(i+1)\n",
        "    \n",
        "    #rad sort\n",
        "    rad_start_time = time.time()\n",
        "    rad_sorted_arr = rad_sort(arr)\n",
        "    rad_sort_time = time.time() - rad_start_time\n",
        "\n",
        "    #Quick sort\n",
        "    q_start_time = time.time()\n",
        "    q_sorted_arr = quicksort(arr, 0, len(arr)-1)\n",
        "    q_sort_time = time.time() - q_start_time\n",
        "        \n",
        "    rad_sort_time_list.append(rad_sort_time)\n",
        "    q_sort_time_list.append(q_sort_time)\n",
        "\n",
        "plt.xlabel('No of digits')\n",
        "plt.ylabel('Time taken')\n",
        "plt.plot(digit_size, rad_sort_time_list, label = \"rad Sort\")\n",
        "plt.plot(digit_size, q_sort_time_list, label = \"Quick Sort\")\n",
        "plt.grid()\n",
        "plt.legend()\n",
        "plt.show()"
      ],
      "execution_count": 5,
      "outputs": [
        {
          "output_type": "stream",
          "name": "stdout",
          "text": [
            "8.869171142578125e-05\n",
            "0.0001068115234375\n",
            "0.00013327598571777344\n",
            "0.0002009868621826172\n",
            "0.0001938343048095703\n",
            "0.00021338462829589844\n"
          ]
        },
        {
          "output_type": "display_data",
          "data": {
            "image/png": "[encoded data removed]",
            "text/plain": [
              "<Figure size 432x288 with 1 Axes>"
            ]
          },
          "metadata": {
            "needs_background": "light"
          }
        }
      ]
    },
    {
      "cell_type": "code",
      "metadata": {
        "id": "rDUuOx6YhPKO",
        "colab": {
          "base_uri": "https://localhost:8080/",
          "height": 325
        },
        "outputId": "037e6d06-2f8d-4994-ef15-40a45a51f5ee"
      },
      "source": [
        "import numpy as np\n",
        "import math\n",
        "import time\n",
        "import matplotlib.pyplot as plt\n",
        "\n",
        "# Insertion Sort\n",
        "\n",
        "def insort(A) :\n",
        "    for j in range(1, len(A)) :\n",
        "        key = A[j]\n",
        "        i = j - 1\n",
        "        while i >= 0 and A[i] > key :\n",
        "            A[i+1] = A[i]\n",
        "            i = i-1\n",
        "        A[i+1] = key\n",
        "    return A\n",
        "\n",
        "# Bucket Sort \n",
        "\n",
        "def bucketSort(A) :\n",
        "    sorted_array = []\n",
        "    n = len(A)\n",
        "    new_array_b = [[0]]*(n)\n",
        "    for i in range(n) :\n",
        "        new_array_b[i] = []\n",
        "    for i in range(n) :\n",
        "        new_array_b[math.floor(n*A[i]/10**len(str(A[i])))].append(A[i])\n",
        "    for i in range(n) :\n",
        "        sorted_bi = insort(new_array_b[i])\n",
        "        sorted_array = sorted_array + sorted_bi\n",
        "    return sorted_array\n",
        "\n",
        "\n",
        "A = [0.79,0.13,0.16,0.64,0.39,0.20,0.89,0.53,0.71,0.42]\n",
        "\n",
        "print('The input array is:',A)\n",
        "print('after the BucketSort operation the array is:',bucketSort(A))\n",
        "\n",
        "#QuickSort\n",
        "\n",
        "def quickSort(A, p, r):\n",
        "    if p < r:\n",
        "        q = partition(A, p, r)\n",
        "        quickSort(A, p, q-1)\n",
        "        quickSort(A, q+1, r)\n",
        "\n",
        "def partition(A, p, r):\n",
        "    x = A[r]\n",
        "    i = p-1\n",
        "    for j in range(p, r):\n",
        "        if A[j] <= x:\n",
        "            i = i + 1\n",
        "            A[i],A[j] = A[j],A[i]\n",
        "\n",
        "    A[i+1],A[r] = A[r],A[i+1]\n",
        "    return i+1\n",
        "\n",
        "digit_size = []\n",
        "bucket_sort_time = []\n",
        "q_sort_time = []\n",
        "q_sort_time_list = []\n",
        "bucket_sort_time_list = []\n",
        "\n",
        "for i in range(0,5):\n",
        "    np.random.seed(0)\n",
        "    n=20\n",
        "    A = np.random.randint(10**i, (10**(i+1)) , n)\n",
        "    digit_size.append(i+1)\n",
        "\n",
        "    #Bucket sort\n",
        "    bucket_start_time = time.time()\n",
        "    bucket_sorted_arr = bucketSort(A)\n",
        "    bucket_sort_time = time.time() - bucket_start_time\n",
        "\n",
        "    #Quick sort\n",
        "    q_start_time = time.time()\n",
        "    q_sorted_array = quickSort(A, 0, len(A)-1)\n",
        "    q_sort_time = time.time() - q_start_time\n",
        "        \n",
        "    bucket_sort_time_list.append(bucket_sort_time)\n",
        "    q_sort_time_list.append(q_sort_time)\n",
        "    \n",
        "plt.xlabel('Total no of digits')\n",
        "plt.ylabel('Total time taken')\n",
        "plt.plot(digit_size, bucket_sort_time_list, label ='BucketSort')\n",
        "plt.plot(digit_size, q_sort_time_list, label = \"QuickSort\")\n",
        "plt.grid()\n",
        "plt.legend()\n",
        "plt.show()\n"
      ],
      "execution_count": 6,
      "outputs": [
        {
          "output_type": "stream",
          "name": "stdout",
          "text": [
            "The input array is: [0.79, 0.13, 0.16, 0.64, 0.39, 0.2, 0.89, 0.53, 0.71, 0.42]\n",
            "after the BucketSort operation the array is: [0.13, 0.16, 0.2, 0.39, 0.42, 0.53, 0.64, 0.71, 0.79, 0.89]\n"
          ]
        },
        {
          "output_type": "display_data",
          "data": {
            "image/png": "[encoded data removed]",
            "text/plain": [
              "<Figure size 432x288 with 1 Axes>"
            ]
          },
          "metadata": {
            "needs_background": "light"
          }
        }
      ]
    }
  ]
}