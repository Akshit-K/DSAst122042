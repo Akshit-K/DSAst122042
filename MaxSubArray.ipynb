{
  "nbformat": 4,
  "nbformat_minor": 0,
  "metadata": {
    "colab": {
      "name": "Dsa_3.ipynb",
      "provenance": []
    },
    "kernelspec": {
      "name": "python3",
      "display_name": "Python 3"
    },
    "language_info": {
      "name": "python"
    }
  },
  "cells": [
    {
      "cell_type": "code",
      "metadata": {
        "id": "TVOT2DJ2BecR"
      },
      "source": [
        "import numpy as n\n",
        "import random as rdm\n",
        "import time\n",
        "import matplotlib.pyplot as plt\n",
        "import math"
      ],
      "execution_count": 1,
      "outputs": []
    },
    {
      "cell_type": "code",
      "metadata": {
        "id": "jJ6YjwMuFLrB"
      },
      "source": [
        "infi = math.inf\n",
        "def MaxCrossSubarray(A,lw,m,h):\n",
        "  left_sum = -infi\n",
        "  sum = 0\n",
        "  for i in range(m,lw-1,-1):\n",
        "    sum= sum + A[i]\n",
        "    if (sum>left_sum):\n",
        "      left_sum=sum\n",
        "      max_left=i\n",
        "  \n",
        "  right_sum = -infi\n",
        "  sum=0\n",
        "\n",
        "  for j in range(m+1,h+1):\n",
        "    sum= sum + A[j]\n",
        "    if (sum>right_sum):\n",
        "      right_sum = sum\n",
        "      max_right = j\n",
        "  return (max_left,max_right,left_sum+right_sum)\n",
        "\n",
        "\n",
        "\n",
        "\n",
        "\n",
        "\n",
        "\n",
        "\n",
        "\n",
        "\n",
        "def MaximumSubarray(A,lw,h):\n",
        "  if (h==lw):\n",
        "    return (lw, h, A[lw])\n",
        "  else:\n",
        "    m= (lw+h)//2\n",
        "    (left_lw,left_h,left_sum)= MaximumSubarray(A,lw,m)\n",
        "    (right_lw,right_h,right_sum)= MaximumSubarray(A,m+1,h)\n",
        "    (cross_lw,cross_h,cross_sum)= MaxCrossSubarray(A,lw,m,h)\n",
        "    if (left_sum>=right_sum and left_sum>=cross_sum):\n",
        "      return (left_lw,left_h,left_sum)\n",
        "    elif (right_sum>=left_sum and right_sum>=cross_sum):\n",
        "      return (right_lw,right_h,right_sum)\n",
        "    else:\n",
        "      return (cross_lw,cross_h,cross_sum)\n"
      ],
      "execution_count": 8,
      "outputs": []
    },
    {
      "cell_type": "code",
      "metadata": {
        "colab": {
          "base_uri": "https://localhost:8080/"
        },
        "id": "8QxN9QIEJOP3",
        "outputId": "f76695cd-6192-48a4-8714-111ff9eea42d"
      },
      "source": [
        "numb = [10, 100, 1000, 10000, 100000, 1000000]\n",
        "t=[]\n",
        "\n",
        "\n",
        "for m in range(0,len(numb)):\n",
        "  arr = n.random.randint(-50,50,numb[m])\n",
        "  start_time = time.clock()\n",
        "  (lw, h, sm) = MaximumSubarray(arr, 0, len(arr)-1)\n",
        "  time_elapsed = time.clock() - start_time\n",
        "  t.append(time_elapsed)\n",
        "\n",
        "\n",
        "\n",
        "\n",
        "\n",
        "\n",
        "\n"
      ],
      "execution_count": 5,
      "outputs": [
        {
          "output_type": "stream",
          "name": "stderr",
          "text": [
            "/usr/local/lib/python3.7/dist-packages/ipykernel_launcher.py:7: DeprecationWarning: time.clock has been deprecated in Python 3.3 and will be removed from Python 3.8: use time.perf_counter or time.process_time instead\n",
            "  import sys\n",
            "/usr/local/lib/python3.7/dist-packages/ipykernel_launcher.py:9: DeprecationWarning: time.clock has been deprecated in Python 3.3 and will be removed from Python 3.8: use time.perf_counter or time.process_time instead\n",
            "  if __name__ == '__main__':\n"
          ]
        }
      ]
    },
    {
      "cell_type": "code",
      "metadata": {
        "colab": {
          "base_uri": "https://localhost:8080/"
        },
        "id": "HdPDRLv9X7ZM",
        "outputId": "56a08930-7240-43cc-8141-d99681c94973"
      },
      "source": [
        "tim=[]\n",
        "\n",
        "for z in range(0,len(t)):\n",
        "  rn = round(t[z],4)\n",
        "  tim.append(rn)\n",
        "\n",
        "\n",
        "print(tim)"
      ],
      "execution_count": 6,
      "outputs": [
        {
          "output_type": "stream",
          "name": "stdout",
          "text": [
            "[0.0003, 0.0015, 0.0125, 0.1035, 1.1626, 12.6499]\n"
          ]
        }
      ]
    },
    {
      "cell_type": "code",
      "metadata": {
        "colab": {
          "base_uri": "https://localhost:8080/",
          "height": 324
        },
        "id": "rBkuEP43YQuG",
        "outputId": "7b2e56f4-d079-4e67-dae2-af1d8f7372a3"
      },
      "source": [
        "fig = plt.figure(figsize= (15,5))\n",
        "plt.plot(numb,tim)\n",
        "c= 1/500000\n",
        "\n",
        "pro = c*(numb*(n.log(numb)))\n",
        "\n",
        "plt.plot(numb,pro)\n",
        "\n",
        "\n",
        "plt.xscale(\"log\")\n",
        "plt.yscale(\"log\")"
      ],
      "execution_count": 7,
      "outputs": [
        {
          "output_type": "display_data",
          "data": {
            "image/png": "[encoded data removed]",
            "text/plain": [
              "<Figure size 1080x360 with 1 Axes>"
            ]
          },
          "metadata": {
            "needs_background": "light"
          }
        }
      ]
    }
  ]
}